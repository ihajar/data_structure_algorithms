{
  "nbformat": 4,
  "nbformat_minor": 0,
  "metadata": {
    "colab": {
      "name": "Dynamic Arrays.ipynb",
      "provenance": [],
      "authorship_tag": "ABX9TyPEGPLl2U+Y2avM5ZsQFRgT",
      "include_colab_link": true
    },
    "kernelspec": {
      "name": "python3",
      "display_name": "Python 3"
    }
  },
  "cells": [
    {
      "cell_type": "markdown",
      "metadata": {
        "id": "view-in-github",
        "colab_type": "text"
      },
      "source": [
        "<a href=\"https://colab.research.google.com/github/ihajar/data_structure_algorithms/blob/master/Dynamic_Arrays.ipynb\" target=\"_parent\"><img src=\"https://colab.research.google.com/assets/colab-badge.svg\" alt=\"Open In Colab\"/></a>"
      ]
    },
    {
      "cell_type": "markdown",
      "metadata": {
        "id": "lpG3u01WCf85",
        "colab_type": "text"
      },
      "source": [
        "**Reverse String and words in a sentence**"
      ]
    },
    {
      "cell_type": "code",
      "metadata": {
        "id": "z225hpGPgoN9",
        "colab_type": "code",
        "outputId": "6d958560-92fe-480d-d882-6c769c367deb",
        "colab": {
          "base_uri": "https://localhost:8080/",
          "height": 34
        }
      },
      "source": [
        "def reverseString(string):\n",
        "    reversed_list = string.split(' ')\n",
        "    reversed_list.reverse()\n",
        "    reversed_string = ' '.join(reversed_list)\n",
        "    print(reversed_string)\n",
        "\n",
        "reverseString(\"Let's take LeetCode contest\")\n"
      ],
      "execution_count": 17,
      "outputs": [
        {
          "output_type": "stream",
          "text": [
            "contest LeetCode take Let's\n"
          ],
          "name": "stdout"
        }
      ]
    },
    {
      "cell_type": "markdown",
      "metadata": {
        "id": "2fry2tWXAooq",
        "colab_type": "text"
      },
      "source": [
        ""
      ]
    },
    {
      "cell_type": "code",
      "metadata": {
        "id": "aiql63ZTAwfP",
        "colab_type": "code",
        "colab": {
          "base_uri": "https://localhost:8080/",
          "height": 34
        },
        "outputId": "6b5ce97f-0596-44f8-b0f2-22b62c6d0bbb"
      },
      "source": [
        "def reverseWords(words):\n",
        "  s = words.split()\n",
        "  for i in range(len(s)):\n",
        "    s[i] = s[i][::-1]\n",
        "  reversed_words = ' '.join(s)\n",
        "  print(reversed_words)\n",
        "reverseWords(\"Let's take LeetCode contest\")\n"
      ],
      "execution_count": 22,
      "outputs": [
        {
          "output_type": "stream",
          "text": [
            "s'teL ekat edoCteeL tsetnoc\n"
          ],
          "name": "stdout"
        }
      ]
    },
    {
      "cell_type": "markdown",
      "metadata": {
        "id": "tpUbtBdii4q6",
        "colab_type": "text"
      },
      "source": [
        "**Reverse Integer**"
      ]
    },
    {
      "cell_type": "code",
      "metadata": {
        "id": "WFpPsJqHi9PI",
        "colab_type": "code",
        "colab": {
          "base_uri": "https://localhost:8080/",
          "height": 51
        },
        "outputId": "7d1ae449-0b2f-41af-a7b6-a9507bf54752"
      },
      "source": [
        "def reverse(x):\n",
        "      \n",
        "        sign = 1 if x>=0 else -1\n",
        "        temp, x = 0, abs(x)\n",
        "        while x:\n",
        "            digit = x%10\n",
        "            x //= 10\n",
        "            temp = temp*10 + digit\n",
        "        temp = temp * sign\n",
        "        return temp if temp>=-2**31 and temp<=2**31-1 else 0\n",
        "\n",
        "# Example\n",
        "a = 123\n",
        "print(\"the reversed is :\", reverse(a))\n",
        "b= -157963\n",
        "print(\"the reversed is: \",reverse(b))"
      ],
      "execution_count": 201,
      "outputs": [
        {
          "output_type": "stream",
          "text": [
            "the reversed is : 321\n",
            "the reversed is:  -369751\n"
          ],
          "name": "stdout"
        }
      ]
    },
    {
      "cell_type": "markdown",
      "metadata": {
        "id": "fvTYa_r5CY63",
        "colab_type": "text"
      },
      "source": [
        "**Array Partition I**"
      ]
    },
    {
      "cell_type": "code",
      "metadata": {
        "id": "GBComSkhCelV",
        "colab_type": "code",
        "colab": {
          "base_uri": "https://localhost:8080/",
          "height": 34
        },
        "outputId": "256a00b5-6465-4013-9749-28e6027c37f7"
      },
      "source": [
        "    def arrayPairSum(nums):\n",
        "        \n",
        "        n= len(nums)\n",
        "        nums.sort()\n",
        "        aps =  0\n",
        "        \n",
        "        for i in range(0,n,2):\n",
        "            aps += nums[i]\n",
        "        return aps\n",
        "\n",
        "    # Example\n",
        "    nums=[1,4,3,2]\n",
        "    print(arrayPairSum(nums))\n"
      ],
      "execution_count": 200,
      "outputs": [
        {
          "output_type": "stream",
          "text": [
            "4\n"
          ],
          "name": "stdout"
        }
      ]
    },
    {
      "cell_type": "markdown",
      "metadata": {
        "id": "JLrRwbeTlxFf",
        "colab_type": "text"
      },
      "source": [
        "**Diagonal Traverse**\n"
      ]
    },
    {
      "cell_type": "code",
      "metadata": {
        "id": "4eUTQm4cF1ej",
        "colab_type": "code",
        "colab": {
          "base_uri": "https://localhost:8080/",
          "height": 34
        },
        "outputId": "502092c6-7db1-4f30-d2ee-aa825e1144a7"
      },
      "source": [
        "def findDiagonalOrder( matrix):\n",
        "        \n",
        "        m = len(matrix)\n",
        "        n = len(matrix[0]) if m > 0 else 0\n",
        "        if n == 0:\n",
        "            return []\n",
        "        \n",
        "        result = [0 for i in range(m*n)]\n",
        "        up = True\n",
        "        row = col = 0\n",
        "        \n",
        "        for i in range(m*n):\n",
        "            result[i] = matrix[row][col]\n",
        "            \n",
        "            if up:\n",
        "                if col == n-1:\n",
        "                    row = row +1\n",
        "                    up = not up\n",
        "                elif row == 0:\n",
        "                    col = col +1\n",
        "                    up = not up\n",
        "                else:\n",
        "                    row = row -1\n",
        "                    col = col +1\n",
        "            else:\n",
        "                if row == m - 1:\n",
        "                    col = col + 1\n",
        "                    up = not up\n",
        "                elif col == 0:\n",
        "                    row = row +1\n",
        "                    up = not up\n",
        "                else:\n",
        "                    row = row +1\n",
        "                    col = col -1\n",
        "        return result\n",
        "   \n",
        "# Example\n",
        "matrix = [[ 1, 2, 3 ],[ 4, 5, 6 ],[ 7, 8, 9 ]]\n",
        "print(findDiagonalOrder(matrix))\n"
      ],
      "execution_count": 202,
      "outputs": [
        {
          "output_type": "stream",
          "text": [
            "[1, 2, 4, 7, 5, 3, 6, 8, 9]\n"
          ],
          "name": "stdout"
        }
      ]
    }
  ]
}