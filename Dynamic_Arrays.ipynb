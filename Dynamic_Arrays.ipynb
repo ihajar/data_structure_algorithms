{
  "nbformat": 4,
  "nbformat_minor": 0,
  "metadata": {
    "colab": {
      "name": "Dynamic Arrays.ipynb",
      "provenance": [],
      "authorship_tag": "ABX9TyPvsintuWNQhphuiXxqsf8e",
      "include_colab_link": true
    },
    "kernelspec": {
      "name": "python3",
      "display_name": "Python 3"
    }
  },
  "cells": [
    {
      "cell_type": "markdown",
      "metadata": {
        "id": "view-in-github",
        "colab_type": "text"
      },
      "source": [
        "<a href=\"https://colab.research.google.com/github/ihajar/data_structure_algorithms/blob/master/Dynamic_Arrays.ipynb\" target=\"_parent\"><img src=\"https://colab.research.google.com/assets/colab-badge.svg\" alt=\"Open In Colab\"/></a>"
      ]
    },
    {
      "cell_type": "markdown",
      "metadata": {
        "id": "lpG3u01WCf85",
        "colab_type": "text"
      },
      "source": [
        "**Reverse String and words in a sentence**"
      ]
    },
    {
      "cell_type": "code",
      "metadata": {
        "id": "z225hpGPgoN9",
        "colab_type": "code",
        "outputId": "6d958560-92fe-480d-d882-6c769c367deb",
        "colab": {
          "base_uri": "https://localhost:8080/",
          "height": 34
        }
      },
      "source": [
        "def reverseString(string):\n",
        "    reversed_list = string.split(' ')\n",
        "    reversed_list.reverse()\n",
        "    reversed_string = ' '.join(reversed_list)\n",
        "    print(reversed_string)\n",
        "\n",
        "reverseString(\"Let's take LeetCode contest\")\n"
      ],
      "execution_count": 17,
      "outputs": [
        {
          "output_type": "stream",
          "text": [
            "contest LeetCode take Let's\n"
          ],
          "name": "stdout"
        }
      ]
    },
    {
      "cell_type": "markdown",
      "metadata": {
        "id": "2fry2tWXAooq",
        "colab_type": "text"
      },
      "source": [
        ""
      ]
    },
    {
      "cell_type": "code",
      "metadata": {
        "id": "aiql63ZTAwfP",
        "colab_type": "code",
        "colab": {
          "base_uri": "https://localhost:8080/",
          "height": 34
        },
        "outputId": "6b5ce97f-0596-44f8-b0f2-22b62c6d0bbb"
      },
      "source": [
        "def reverseWords(words):\n",
        "  s = words.split()\n",
        "  for i in range(len(s)):\n",
        "    s[i] = s[i][::-1]\n",
        "  reversed_words = ' '.join(s)\n",
        "  print(reversed_words)\n",
        "reverseWords(\"Let's take LeetCode contest\")\n"
      ],
      "execution_count": 22,
      "outputs": [
        {
          "output_type": "stream",
          "text": [
            "s'teL ekat edoCteeL tsetnoc\n"
          ],
          "name": "stdout"
        }
      ]
    },
    {
      "cell_type": "markdown",
      "metadata": {
        "id": "fvTYa_r5CY63",
        "colab_type": "text"
      },
      "source": [
        "**Array Partition I**"
      ]
    },
    {
      "cell_type": "code",
      "metadata": {
        "id": "GBComSkhCelV",
        "colab_type": "code",
        "colab": {}
      },
      "source": [
        "    def arrayPairSum(self, nums):\n",
        "        \n",
        "        n= len(nums)\n",
        "        nums.sort()\n",
        "        aps =  0\n",
        "        \n",
        "        for i in range(0,n,2):\n",
        "            aps += nums[i]\n",
        "        return aps"
      ],
      "execution_count": 0,
      "outputs": []
    },
    {
      "cell_type": "code",
      "metadata": {
        "id": "4eUTQm4cF1ej",
        "colab_type": "code",
        "colab": {}
      },
      "source": [
        ""
      ],
      "execution_count": 0,
      "outputs": []
    }
  ]
}